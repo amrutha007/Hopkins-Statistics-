{
 "cells": [
  {
   "cell_type": "code",
   "execution_count": 31,
   "id": "0269cb8f",
   "metadata": {},
   "outputs": [],
   "source": [
    "import matplotlib.pyplot as plt\n",
    "import pandas as pd\n",
    "from pyclustertend import hopkins #library for the hopkins test"
   ]
  },
  {
   "cell_type": "markdown",
   "id": "32b9c13a",
   "metadata": {},
   "source": [
    "### CASE - 1 "
   ]
  },
  {
   "cell_type": "code",
   "execution_count": 17,
   "id": "a894782b",
   "metadata": {},
   "outputs": [
    {
     "data": {
      "image/png": "[encoded data removed]",
      "text/plain": [
       "<Figure size 432x288 with 1 Axes>"
      ]
     },
     "metadata": {
      "needs_background": "light"
     },
     "output_type": "display_data"
    }
   ],
   "source": [
    "x=[1,2,2,3,3,4]\n",
    "y=[6,5,7,7,5,6]\n",
    "\n",
    "x_lim = range(0,10)\n",
    "y_lim = range(0,10)\n",
    "plt.scatter(x, y, c =\"red\")\n",
    "plt.xticks(x_lim)\n",
    "plt.yticks(y_lim)\n",
    "plt.title('Clustering is difficult')\n",
    "plt.show()"
   ]
  },
  {
   "cell_type": "code",
   "execution_count": 34,
   "id": "d873e7bb",
   "metadata": {},
   "outputs": [
    {
     "data": {
      "text/html": [
       "<div>\n",
       "<style scoped>\n",
       "    .dataframe tbody tr th:only-of-type {\n",
       "        vertical-align: middle;\n",
       "    }\n",
       "\n",
       "    .dataframe tbody tr th {\n",
       "        vertical-align: top;\n",
       "    }\n",
       "\n",
       "    .dataframe thead th {\n",
       "        text-align: right;\n",
       "    }\n",
       "</style>\n",
       "<table border=\"1\" class=\"dataframe\">\n",
       "  <thead>\n",
       "    <tr style=\"text-align: right;\">\n",
       "      <th></th>\n",
       "      <th>x</th>\n",
       "      <th>y</th>\n",
       "    </tr>\n",
       "  </thead>\n",
       "  <tbody>\n",
       "    <tr>\n",
       "      <th>0</th>\n",
       "      <td>1</td>\n",
       "      <td>6</td>\n",
       "    </tr>\n",
       "    <tr>\n",
       "      <th>1</th>\n",
       "      <td>2</td>\n",
       "      <td>5</td>\n",
       "    </tr>\n",
       "    <tr>\n",
       "      <th>2</th>\n",
       "      <td>2</td>\n",
       "      <td>7</td>\n",
       "    </tr>\n",
       "    <tr>\n",
       "      <th>3</th>\n",
       "      <td>3</td>\n",
       "      <td>7</td>\n",
       "    </tr>\n",
       "    <tr>\n",
       "      <th>4</th>\n",
       "      <td>3</td>\n",
       "      <td>5</td>\n",
       "    </tr>\n",
       "    <tr>\n",
       "      <th>5</th>\n",
       "      <td>4</td>\n",
       "      <td>6</td>\n",
       "    </tr>\n",
       "  </tbody>\n",
       "</table>\n",
       "</div>"
      ],
      "text/plain": [
       "   x  y\n",
       "0  1  6\n",
       "1  2  5\n",
       "2  2  7\n",
       "3  3  7\n",
       "4  3  5\n",
       "5  4  6"
      ]
     },
     "execution_count": 34,
     "metadata": {},
     "output_type": "execute_result"
    }
   ],
   "source": [
    "data1={'x':[1,2,2,3,3,4], 'y':[6,5,7,7,5,6]}\n",
    "df1=pd.DataFrame(data1)\n",
    "df1"
   ]
  },
  {
   "cell_type": "markdown",
   "id": "61361a91",
   "metadata": {},
   "source": [
    "### Hopkins Statistics for dataframe 1"
   ]
  },
  {
   "cell_type": "code",
   "execution_count": 35,
   "id": "59768726",
   "metadata": {},
   "outputs": [
    {
     "data": {
      "text/plain": [
       "0.653379861555332"
      ]
     },
     "execution_count": 35,
     "metadata": {},
     "output_type": "execute_result"
    }
   ],
   "source": [
    "hopkins(df1,df1.shape[0])"
   ]
  },
  {
   "cell_type": "markdown",
   "id": "c0b025e7",
   "metadata": {},
   "source": [
    "* Since hopkins statistics value is 0.653 which is more than 0.5 (0.653 > 0.5) therefore no meaningful clusters"
   ]
  },
  {
   "cell_type": "markdown",
   "id": "6667cb7d",
   "metadata": {},
   "source": [
    "### CASE - 2 "
   ]
  },
  {
   "cell_type": "code",
   "execution_count": 25,
   "id": "775cd937",
   "metadata": {},
   "outputs": [
    {
     "data": {
      "image/png": "[encoded data removed]",
      "text/plain": [
       "<Figure size 432x288 with 1 Axes>"
      ]
     },
     "metadata": {
      "needs_background": "light"
     },
     "output_type": "display_data"
    }
   ],
   "source": [
    "x=[1,2,2,7,7,8]\n",
    "y=[6,5,7,4,2,3]\n",
    "\n",
    "x_lim = range(0,10)\n",
    "y_lim = range(0,10)\n",
    "plt.scatter(x, y, c =\"green\")\n",
    "plt.xticks(x_lim)\n",
    "plt.yticks(y_lim)\n",
    "plt.title('Clustering is easier')\n",
    "plt.show()"
   ]
  },
  {
   "cell_type": "code",
   "execution_count": 36,
   "id": "68a2db3e",
   "metadata": {},
   "outputs": [
    {
     "data": {
      "text/html": [
       "<div>\n",
       "<style scoped>\n",
       "    .dataframe tbody tr th:only-of-type {\n",
       "        vertical-align: middle;\n",
       "    }\n",
       "\n",
       "    .dataframe tbody tr th {\n",
       "        vertical-align: top;\n",
       "    }\n",
       "\n",
       "    .dataframe thead th {\n",
       "        text-align: right;\n",
       "    }\n",
       "</style>\n",
       "<table border=\"1\" class=\"dataframe\">\n",
       "  <thead>\n",
       "    <tr style=\"text-align: right;\">\n",
       "      <th></th>\n",
       "      <th>x</th>\n",
       "      <th>y</th>\n",
       "    </tr>\n",
       "  </thead>\n",
       "  <tbody>\n",
       "    <tr>\n",
       "      <th>0</th>\n",
       "      <td>1</td>\n",
       "      <td>6</td>\n",
       "    </tr>\n",
       "    <tr>\n",
       "      <th>1</th>\n",
       "      <td>2</td>\n",
       "      <td>5</td>\n",
       "    </tr>\n",
       "    <tr>\n",
       "      <th>2</th>\n",
       "      <td>2</td>\n",
       "      <td>7</td>\n",
       "    </tr>\n",
       "    <tr>\n",
       "      <th>3</th>\n",
       "      <td>7</td>\n",
       "      <td>4</td>\n",
       "    </tr>\n",
       "    <tr>\n",
       "      <th>4</th>\n",
       "      <td>7</td>\n",
       "      <td>2</td>\n",
       "    </tr>\n",
       "    <tr>\n",
       "      <th>5</th>\n",
       "      <td>8</td>\n",
       "      <td>3</td>\n",
       "    </tr>\n",
       "  </tbody>\n",
       "</table>\n",
       "</div>"
      ],
      "text/plain": [
       "   x  y\n",
       "0  1  6\n",
       "1  2  5\n",
       "2  2  7\n",
       "3  7  4\n",
       "4  7  2\n",
       "5  8  3"
      ]
     },
     "execution_count": 36,
     "metadata": {},
     "output_type": "execute_result"
    }
   ],
   "source": [
    "data2={'x':[1,2,2,7,7,8], 'y':[6,5,7,4,2,3]}\n",
    "df2=pd.DataFrame(data2)\n",
    "df2"
   ]
  },
  {
   "cell_type": "markdown",
   "id": "46bc9111",
   "metadata": {},
   "source": [
    "### Hopkins Statistics for dataframe 2 "
   ]
  },
  {
   "cell_type": "code",
   "execution_count": 37,
   "id": "3d873161",
   "metadata": {},
   "outputs": [
    {
     "data": {
      "text/plain": [
       "0.4909384097184861"
      ]
     },
     "execution_count": 37,
     "metadata": {},
     "output_type": "execute_result"
    }
   ],
   "source": [
    "hopkins(df2,df2.shape[0])"
   ]
  },
  {
   "cell_type": "markdown",
   "id": "878b2d7c",
   "metadata": {},
   "source": [
    "* Since hopkins statistics value is 0.4909 which is less than / equal to 0.5 (0.4909 < = 0.5) therefore meaningful clusters"
   ]
  },
  {
   "cell_type": "code",
   "execution_count": null,
   "id": "344b3ad1",
   "metadata": {},
   "outputs": [],
   "source": []
  }
 ],
 "metadata": {
  "kernelspec": {
   "display_name": "Python 3",
   "language": "python",
   "name": "python3"
  },
  "language_info": {
   "codemirror_mode": {
    "name": "ipython",
    "version": 3
   },
   "file_extension": ".py",
   "mimetype": "text/x-python",
   "name": "python",
   "nbconvert_exporter": "python",
   "pygments_lexer": "ipython3",
   "version": "3.8.8"
  }
 },
 "nbformat": 4,
 "nbformat_minor": 5
}
